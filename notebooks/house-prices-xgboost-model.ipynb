{
 "cells": [
  {
   "cell_type": "markdown",
   "id": "1a5106b7-d070-43ce-8a74-0b61761440b8",
   "metadata": {},
   "source": [
    "# House Prices Prediction using `xgboost` model"
   ]
  },
  {
   "cell_type": "markdown",
   "id": "680efbc6-ff3c-48da-b99f-68fc0de92795",
   "metadata": {},
   "source": [
    "## Import necessary libraries"
   ]
  },
  {
   "cell_type": "code",
   "execution_count": 5,
   "id": "296d5570-540d-4827-8fa8-822820f94c42",
   "metadata": {},
   "outputs": [],
   "source": [
    "import numpy as np\n",
    "import pandas as pd\n",
    "import matplotlib.pyplot as plt\n",
    "import seaborn as sns\n",
    "\n",
    "from sklearn.model_selection import train_test_split\n",
    "from sklearn import metrics\n",
    "from xgboost import XGBRegressor"
   ]
  },
  {
   "cell_type": "markdown",
   "id": "cf546869-c9ba-41d3-92b1-4e679767cfcb",
   "metadata": {},
   "source": [
    "## Load and explore the data"
   ]
  },
  {
   "cell_type": "markdown",
   "id": "d3aa0b88-be71-49b2-a1f6-7f1063b5c182",
   "metadata": {},
   "source": [
    "## Handling Missing values"
   ]
  },
  {
   "cell_type": "markdown",
   "id": "c4efcb5d-5b49-430e-a394-4cdf930e44c1",
   "metadata": {},
   "source": [
    "## Statistical Distribution"
   ]
  },
  {
   "cell_type": "markdown",
   "id": "3e68ec19-9696-4f11-a82e-4367a20ba943",
   "metadata": {},
   "source": [
    "## Feature Engineering"
   ]
  },
  {
   "cell_type": "markdown",
   "id": "d5ba54f7-3c51-482d-ba3a-a5db96ff0e75",
   "metadata": {},
   "source": [
    "## Encoding Categorical Values"
   ]
  },
  {
   "cell_type": "markdown",
   "id": "99db761d-1943-4a1f-a3fc-58f6a79167f7",
   "metadata": {},
   "source": [
    "## Feature Scaling"
   ]
  },
  {
   "cell_type": "markdown",
   "id": "0434ba82-1bad-45fd-81e5-1e9a9601c6c8",
   "metadata": {},
   "source": [
    "## Separate the Features and Target and Split the data"
   ]
  },
  {
   "cell_type": "markdown",
   "id": "e0130dc4-6d1e-4d94-bc2a-6d3ed062dba3",
   "metadata": {},
   "source": [
    "## XGBoost model training"
   ]
  },
  {
   "cell_type": "markdown",
   "id": "b7c5a411-75a4-4829-b60b-80c3ac147319",
   "metadata": {},
   "source": [
    "## Cross Validation"
   ]
  },
  {
   "cell_type": "markdown",
   "id": "d808d36f-0c39-407e-9d7f-9ff05e270301",
   "metadata": {},
   "source": [
    "## Hyperparameter Tuning"
   ]
  },
  {
   "cell_type": "markdown",
   "id": "6898628a-e0ae-454b-8de8-d85f80706a23",
   "metadata": {},
   "source": [
    "## Model Evaluation"
   ]
  },
  {
   "cell_type": "code",
   "execution_count": null,
   "id": "ff073bcb-4ead-4b28-b26b-9a94e1264005",
   "metadata": {},
   "outputs": [],
   "source": []
  }
 ],
 "metadata": {
  "kernelspec": {
   "display_name": "Python 3 (ipykernel)",
   "language": "python",
   "name": "python3"
  },
  "language_info": {
   "codemirror_mode": {
    "name": "ipython",
    "version": 3
   },
   "file_extension": ".py",
   "mimetype": "text/x-python",
   "name": "python",
   "nbconvert_exporter": "python",
   "pygments_lexer": "ipython3",
   "version": "3.12.4"
  }
 },
 "nbformat": 4,
 "nbformat_minor": 5
}
