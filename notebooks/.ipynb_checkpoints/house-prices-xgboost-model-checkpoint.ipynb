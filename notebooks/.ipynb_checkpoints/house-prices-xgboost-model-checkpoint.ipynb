{
 "cells": [
  {
   "cell_type": "markdown",
   "id": "1a5106b7-d070-43ce-8a74-0b61761440b8",
   "metadata": {},
   "source": [
    "# House Prices Prediction using `xgboost` model"
   ]
  },
  {
   "cell_type": "markdown",
   "id": "680efbc6-ff3c-48da-b99f-68fc0de92795",
   "metadata": {},
   "source": [
    "## Import necessary libraries"
   ]
  },
  {
   "cell_type": "code",
   "execution_count": 5,
   "id": "296d5570-540d-4827-8fa8-822820f94c42",
   "metadata": {},
   "outputs": [],
   "source": [
    "import numpy as np\n",
    "import pandas as pd\n",
    "import matplotlib.pyplot as plt\n",
    "import seaborn as sns\n",
    "\n",
    "from sklearn.model_selection import train_test_split\n",
    "from sklearn import metrics\n",
    "from xgboost import XGBRegressor"
   ]
  },
  {
   "cell_type": "markdown",
   "id": "cf546869-c9ba-41d3-92b1-4e679767cfcb",
   "metadata": {},
   "source": [
    "## Load the data"
   ]
  },
  {
   "cell_type": "code",
   "execution_count": null,
   "id": "7f8b86d4-68d1-4244-9d90-6187e5eb23a8",
   "metadata": {},
   "outputs": [],
   "source": []
  }
 ],
 "metadata": {
  "kernelspec": {
   "display_name": "Python 3 (ipykernel)",
   "language": "python",
   "name": "python3"
  },
  "language_info": {
   "codemirror_mode": {
    "name": "ipython",
    "version": 3
   },
   "file_extension": ".py",
   "mimetype": "text/x-python",
   "name": "python",
   "nbconvert_exporter": "python",
   "pygments_lexer": "ipython3",
   "version": "3.12.4"
  }
 },
 "nbformat": 4,
 "nbformat_minor": 5
}
